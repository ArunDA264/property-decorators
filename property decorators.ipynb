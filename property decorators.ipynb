{
 "cells": [
  {
   "cell_type": "markdown",
   "id": "b1bb440f",
   "metadata": {},
   "source": [
    "The @property decorator\n",
    "The @property decorator is a built-in Python decorator that is used for the property() function. Let’s take an example of a \n",
    "Student class to understand how and why to use this decorator.\n",
    "\n",
    "Let’s say we have a Student class having properties, first name, last name, and score. This class also contains a method that\n",
    "returns the full name of the student. Let’s see.\n",
    "\n"
   ]
  },
  {
   "cell_type": "code",
   "execution_count": 1,
   "id": "f8f3e941",
   "metadata": {},
   "outputs": [
    {
     "data": {
      "text/plain": [
       "'ashton agar'"
      ]
     },
     "execution_count": 1,
     "metadata": {},
     "output_type": "execute_result"
    }
   ],
   "source": [
    "class Student:\n",
    "    def __init__(self, first, last, score):\n",
    "        self.first = first\n",
    "        self.last = last\n",
    "        self.score = score\n",
    "\n",
    "    def full_name(self):\n",
    "        return self.first + \" \" + self.last\n",
    "\n",
    "\n",
    "std = Student(\"ashton\", \"agar\", 98)\n",
    "std.full_name()"
   ]
  },
  {
   "cell_type": "code",
   "execution_count": null,
   "id": "8bb67719",
   "metadata": {},
   "outputs": [],
   "source": [
    "Now, let’s say we want to add a feature in which the user can directly change their full name, and when they change it, their first name and last name get updated as well. \n",
    "\n",
    "One way of doing this is to create a different method, which updates the value of first and last names. Since we are creating a new setter method and for readability purpose, we change the name of full_name() to get_full_name() to have consistency in the code,\n",
    "i.e.,"
   ]
  }
 ],
 "metadata": {
  "kernelspec": {
   "display_name": "Python 3 (ipykernel)",
   "language": "python",
   "name": "python3"
  },
  "language_info": {
   "codemirror_mode": {
    "name": "ipython",
    "version": 3
   },
   "file_extension": ".py",
   "mimetype": "text/x-python",
   "name": "python",
   "nbconvert_exporter": "python",
   "pygments_lexer": "ipython3",
   "version": "3.11.5"
  }
 },
 "nbformat": 4,
 "nbformat_minor": 5
}
